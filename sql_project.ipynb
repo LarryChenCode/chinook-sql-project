{
  "cells": [
    {
      "cell_type": "code",
      "execution_count": 1,
      "metadata": {
        "id": "P-rZtlwiokCa"
      },
      "outputs": [],
      "source": [
        "import requests\n",
        "import os\n",
        "import shutil\n",
        "import sqlite3\n",
        "import pandas as pd\n",
        "from time import sleep\n",
        "\n",
        "# Code for grabbing our sqlite file off the internet\n",
        "global dump\n",
        "\n",
        "\"\"\"\n",
        "Used to download the Chinook database.\n",
        "\"\"\"\n",
        "def download_file():\n",
        "    global dump\n",
        "    url = \"https://github.com/lerocha/chinook-database/raw/master/ChinookDatabase/DataSources/Chinook_Sqlite.sqlite\"\n",
        "    dump = requests.get(url, stream=True).raw\n",
        "\n",
        "'''\n",
        "Used to save the downloaded Chinook Database into an sqlite database file.\n",
        "'''\n",
        "def save_file():\n",
        "    global dump\n",
        "    location = os.path.relpath(\"exampledb.sqlite\")\n",
        "    with open(\"exampledb.sqlite\", 'wb') as location:\n",
        "        shutil.copyfileobj(dump, location)\n",
        "    del dump"
      ]
    },
    {
      "cell_type": "code",
      "execution_count": 2,
      "metadata": {
        "id": "_u762w2mokCb"
      },
      "outputs": [],
      "source": [
        "\"\"\"\n",
        "This code snippet downloads the Chinook database, connects to it, and prepares for queries to be executed.\n",
        "\"\"\"\n",
        "# Grabbing copy of database\n",
        "download_file()\n",
        "# Saving copy of database to a local file\n",
        "save_file()\n",
        "# Create a connection object that represents a database\n",
        "conn = sqlite3.connect(\"exampledb.sqlite\")\n",
        "# Once the connection to the database is opened, we create a Cursor object to execute queries\n",
        "c = conn.cursor()"
      ]
    },
    {
      "cell_type": "code",
      "source": [
        "\"\"\"\n",
        "Write a Query that returns the following data from the Customer table,\n",
        "Only return customers from Canada or the United States whose last name starts with the letter M.\n",
        "\"\"\"\n",
        "c.execute(\"\"\"\n",
        "SELECT FirstName || ' ' || LastName AS FullName, Company, City, State\n",
        "FROM customer\n",
        "WHERE (Country = 'Canada' OR Country = 'USA') AND LastName LIKE 'M%'\n",
        "ORDER BY City;\n",
        "\"\"\")\n",
        "\n",
        "c.fetchall()"
      ],
      "metadata": {
        "colab": {
          "base_uri": "https://localhost:8080/"
        },
        "id": "ZEAN7xPBewrH",
        "outputId": "b8a21f01-83e3-4ec7-ef79-60b14f927e1e"
      },
      "execution_count": 3,
      "outputs": [
        {
          "output_type": "execute_result",
          "data": {
            "text/plain": [
              "[('Dan Miller', None, 'Mountain View', 'CA'),\n",
              " ('Aaron Mitchell', None, 'Winnipeg', 'MB')]"
            ]
          },
          "metadata": {},
          "execution_count": 3
        }
      ]
    },
    {
      "cell_type": "code",
      "source": [
        "\"\"\"\n",
        "Write a query which returns the following information from the Artist, Album and Track tables.\n",
        "Only returns tracks that have the word “dancing” somewhere in the track name.\n",
        "\"\"\"\n",
        "c.execute(\"\"\"\n",
        "SELECT a.Name AS ArtistName, al.Title AS AlbumTitle, t.Name AS TrackName\n",
        "FROM artist a\n",
        "INNER JOIN album al ON a.ArtistId = al.ArtistId\n",
        "INNER JOIN track t ON al.AlbumId = t.AlbumId\n",
        "WHERE t.Name LIKE '%dancing%'\n",
        "ORDER BY a.Name;\n",
        "\"\"\")\n",
        "\n",
        "c.fetchall()"
      ],
      "metadata": {
        "colab": {
          "base_uri": "https://localhost:8080/"
        },
        "id": "dQPCVc13fE6n",
        "outputId": "2ff353bb-615c-4666-dc88-a4d01236287e"
      },
      "execution_count": 4,
      "outputs": [
        {
          "output_type": "execute_result",
          "data": {
            "text/plain": [
              "[('Led Zeppelin', 'Houses Of The Holy', 'Dancing Days'),\n",
              " ('U2', 'B-Sides 1980-1990', 'Dancing Barefoot'),\n",
              " ('Van Halen', 'Diver Down', 'Dancing In The Street')]"
            ]
          },
          "metadata": {},
          "execution_count": 4
        }
      ]
    },
    {
      "cell_type": "code",
      "source": [
        "\"\"\"\n",
        "Create a query that returns two columns one with the employee’s first and last name\n",
        "and the second with their managers first and last name. Notice that General Manager\n",
        "Andrew Adams should report to himself.\n",
        "\"\"\"\n",
        "c.execute(\"\"\"\n",
        "SELECT e.FirstName || ' ' || e.LastName AS Employee,\n",
        "CASE WHEN e.EmployeeId = 1 THEN 'Andrew Adams reports to himself'\n",
        "ELSE m.FirstName || ' ' || m.LastName END AS Manager\n",
        "FROM employee AS e\n",
        "LEFT JOIN employee AS m\n",
        "ON e.ReportsTo = m.EmployeeId;\n",
        "\"\"\")\n",
        "\n",
        "c.fetchall()"
      ],
      "metadata": {
        "colab": {
          "base_uri": "https://localhost:8080/"
        },
        "id": "U9Me_R7lfUgX",
        "outputId": "395253e2-6607-4414-fa96-4118b54bed46"
      },
      "execution_count": 5,
      "outputs": [
        {
          "output_type": "execute_result",
          "data": {
            "text/plain": [
              "[('Andrew Adams', 'Andrew Adams reports to himself'),\n",
              " ('Nancy Edwards', 'Andrew Adams'),\n",
              " ('Jane Peacock', 'Nancy Edwards'),\n",
              " ('Margaret Park', 'Nancy Edwards'),\n",
              " ('Steve Johnson', 'Nancy Edwards'),\n",
              " ('Michael Mitchell', 'Andrew Adams'),\n",
              " ('Robert King', 'Michael Mitchell'),\n",
              " ('Laura Callahan', 'Michael Mitchell')]"
            ]
          },
          "metadata": {},
          "execution_count": 5
        }
      ]
    },
    {
      "cell_type": "code",
      "source": [
        "\"\"\"\n",
        "Report only shows albums that have more than ten tracks.\n",
        "\"\"\"\n",
        "c.execute(\"\"\"\n",
        "SELECT al.Title AS AlbumTitle, COUNT(t.TrackId) AS NumberOfTracks\n",
        "FROM album AS al\n",
        "LEFT JOIN track AS t\n",
        "ON al.AlbumId = t.AlbumId\n",
        "GROUP BY al.AlbumId, al.Title\n",
        "HAVING COUNT(t.TrackId) > 10\n",
        "ORDER BY AlbumTitle;\n",
        "\"\"\")\n",
        "\n",
        "c.fetchall()"
      ],
      "metadata": {
        "colab": {
          "base_uri": "https://localhost:8080/"
        },
        "id": "Fc5ihBi1f3YU",
        "outputId": "cb5d40cb-f8f7-49c4-de2d-baacfca0fd07"
      },
      "execution_count": 6,
      "outputs": [
        {
          "output_type": "execute_result",
          "data": {
            "text/plain": [
              "[('20th Century Masters - The Millennium Collection: The Best of Scorpions',\n",
              "  12),\n",
              " ('A Matter of Life and Death', 11),\n",
              " ('A Real Dead One', 12),\n",
              " ('A Real Live One', 11),\n",
              " ('A TempestadeTempestade Ou O Livro Dos Dias', 15),\n",
              " ('A-Sides', 17),\n",
              " ('Ace Of Spades', 15),\n",
              " ('Achtung Baby', 12),\n",
              " ('Acústico', 22),\n",
              " ('Acústico MTV', 21),\n",
              " ('Acústico MTV [Live]', 17),\n",
              " ('Afrociberdelia', 23),\n",
              " ('Album Of The Year', 12),\n",
              " ('Alcohol Fueled Brewtality Live! [Disc 1]', 13),\n",
              " (\"All That You Can't Leave Behind\", 11),\n",
              " ('American Idiot', 13),\n",
              " ('Angel Dust', 14),\n",
              " ('Ao Vivo [IMPORT]', 19),\n",
              " ('Appetite for Destruction', 12),\n",
              " ('Are You Experienced?', 17),\n",
              " ('Arquivo II', 12),\n",
              " ('Arquivo Os Paralamas Do Sucesso', 16),\n",
              " ('As Canções de Eu Tu Eles', 14),\n",
              " ('Audioslave', 14),\n",
              " ('Axé Bahia 2001', 14),\n",
              " ('B-Sides 1980-1990', 15),\n",
              " ('BBC Sessions [Disc 1] [Live]', 14),\n",
              " ('Back to Black', 12),\n",
              " ('BackBeat Soundtrack', 12),\n",
              " ('Barulhinho Bom', 18),\n",
              " ('Battlestar Galactica (Classic), Season 1', 24),\n",
              " ('Battlestar Galactica, Season 3', 19),\n",
              " ('Beyond Good And Evil', 12),\n",
              " ('Big Ones', 15),\n",
              " ('Black Album', 12),\n",
              " ('Blood Sugar Sex Magik', 17),\n",
              " ('Blue Moods', 13),\n",
              " ('Body Count', 17),\n",
              " ('By The Way', 16),\n",
              " ('Cafezinho', 14),\n",
              " ('Californication', 15),\n",
              " ('Carnaval 2001', 14),\n",
              " ('Carry On', 14),\n",
              " ('Chemical Wedding', 11),\n",
              " ('Chill: Brazil (Disc 1)', 17),\n",
              " ('Chill: Brazil (Disc 2)', 17),\n",
              " ('Chronicle, Vol. 1', 20),\n",
              " ('Chronicle, Vol. 2', 20),\n",
              " ('Cidade Negra - Hits', 14),\n",
              " ('Compositores', 15),\n",
              " ('Contraband', 13),\n",
              " ('Core', 12),\n",
              " ('Cássia Eller - Coleção Sem Limite [Disc 2]', 15),\n",
              " ('Cássia Eller - Sem Limite [Disc 1]', 15),\n",
              " ('Da Lama Ao Caos', 13),\n",
              " ('Dance Of Death', 11),\n",
              " ('Deixa Entrar', 14),\n",
              " ('Demorou...', 12),\n",
              " ('Diver Down', 12),\n",
              " ('Djavan Ao Vivo - Vol. 02', 13),\n",
              " ('Djavan Ao Vivo - Vol. 1', 13),\n",
              " ('Elis Regina-Minha História', 14),\n",
              " ('Faceless', 12),\n",
              " ('Facelift', 12),\n",
              " ('Fear Of The Dark', 12),\n",
              " ('Frank', 11),\n",
              " ('From The Muddy Banks Of The Wishkah [Live]', 17),\n",
              " ('Garage Inc. (Disc 1)', 11),\n",
              " ('Garage Inc. (Disc 2)', 16),\n",
              " ('Get Born', 13),\n",
              " ('Greatest Hits', 57),\n",
              " ('Greatest Hits I', 17),\n",
              " ('Greatest Hits II', 17),\n",
              " ('Greatest Kiss', 20),\n",
              " ('Green', 11),\n",
              " ('Heart of the Night', 12),\n",
              " ('Heroes, Season 1', 23),\n",
              " ('Hot Rocks, 1964-1971 (Disc 1)', 12),\n",
              " ('House of Pain', 19),\n",
              " ('How To Dismantle An Atomic Bomb', 11),\n",
              " ('Instant Karma: The Amnesty International Campaign to Save Darfur', 23),\n",
              " ('International Superhits', 21),\n",
              " ('Into The Light', 12),\n",
              " ('Jagged Little Pill', 13),\n",
              " ('Jorge Ben Jor 25 Anos', 14),\n",
              " ('Jota Quest-1995', 12),\n",
              " ('Judas 0: B-Sides and Rarities', 16),\n",
              " ('King For A Day Fool For A Lifetime', 15),\n",
              " (\"Knocking at Your Back Door: The Best Of Deep Purple in the 80's\", 11),\n",
              " ('LOST, Season 4', 17),\n",
              " ('Live After Death', 18),\n",
              " ('Live On Two Legs [Live]', 16),\n",
              " ('Living After Midnight', 16),\n",
              " ('Load', 14),\n",
              " ('Lost, Season 1', 25),\n",
              " ('Lost, Season 2', 24),\n",
              " ('Lost, Season 3', 26),\n",
              " ('Lulu Santos - RCA 100 Anos De Música - Álbum 01', 14),\n",
              " ('Lulu Santos - RCA 100 Anos De Música - Álbum 02', 14),\n",
              " ('Mais Do Mesmo', 16),\n",
              " ('Maquinarama', 12),\n",
              " ('Meus Momentos', 14),\n",
              " ('Mezmerize', 11),\n",
              " ('Miles Ahead', 14),\n",
              " ('Milton Nascimento Ao Vivo', 13),\n",
              " ('Minas', 13),\n",
              " ('Minha Historia', 34),\n",
              " ('Minha História', 14),\n",
              " ('Motley Crue Greatest Hits', 17),\n",
              " ('My Generation - The Very Best Of The Who', 20),\n",
              " ('My Way: The Best Of Frank Sinatra [Disc 1]', 24),\n",
              " ('Nevermind', 12),\n",
              " ('New Adventures In Hi-Fi', 14),\n",
              " ('News Of The World', 11),\n",
              " ('No Security', 14),\n",
              " ('O Samba Poconé', 11),\n",
              " ('Olodum', 14),\n",
              " ('One By One', 11),\n",
              " ('Original Soundtracks 1', 14),\n",
              " ('Os Cães Ladram Mas A Caravana Não Pára', 16),\n",
              " ('Out Of Exile', 12),\n",
              " ('Out Of Time', 11),\n",
              " ('Pearl Jam', 13),\n",
              " ('Pop', 12),\n",
              " ('Prenda Minha', 18),\n",
              " ('Pure Cult: The Best Of The Cult (For Rockers, Ravers, Lovers & Sinners) [UK]',\n",
              "  18),\n",
              " ('Purpendicular', 12),\n",
              " ('Quanta Gente Veio Ver (Live)', 15),\n",
              " ('Radio Brasil (O Som da Jovem Vanguarda) - Seleccao de Henrique Amaro', 17),\n",
              " ('Rattle And Hum', 17),\n",
              " ('Raul Seixas', 14),\n",
              " ('ReLoad', 13),\n",
              " ('Retrospective I (1974-1980)', 14),\n",
              " ('Revelations', 14),\n",
              " ('Riot Act', 15),\n",
              " ('Roda De Funk', 16),\n",
              " ('Rotten Apples: Greatest Hits', 18),\n",
              " ('Sambas De Enredo 2001', 14),\n",
              " ('Seek And Shall Find: More Of The Best (1963-1981)', 18),\n",
              " ('Serie Sem Limite (Disc 1)', 15),\n",
              " ('Serie Sem Limite (Disc 2)', 15),\n",
              " ('Sex Machine', 20),\n",
              " ('Speak of the Devil', 12),\n",
              " ('St. Anger', 11),\n",
              " ('Supernatural', 13),\n",
              " ('Synkronized', 11),\n",
              " ('Tangents', 15),\n",
              " ('Ten', 11),\n",
              " ('The Best Of 1980-1990', 14),\n",
              " ('The Best Of Buddy Guy - The Millenium Collection', 11),\n",
              " ('The Best Of R.E.M.: The IRS Years', 16),\n",
              " ('The Best Of Van Halen, Vol. I', 17),\n",
              " ('The Best of Ed Motta', 14),\n",
              " ('The Colour And The Shape', 13),\n",
              " ('The Cream Of Clapton', 18),\n",
              " ('The Doors', 11),\n",
              " ('The Essential Miles Davis [Disc 1]', 13),\n",
              " ('The Office, Season 2', 22),\n",
              " ('The Office, Season 3', 25),\n",
              " ('The Police Greatest Hits', 14),\n",
              " ('The Real Thing', 11),\n",
              " ('The Return Of The Space Cowboy', 11),\n",
              " ('The Singles', 18),\n",
              " ('The X Factor', 11),\n",
              " ('Transmission', 11),\n",
              " ('Tribute', 14),\n",
              " ('UB40 The Best Of - Volume Two [UK]', 14),\n",
              " ('Unplugged', 30),\n",
              " ('Unplugged [Live]', 15),\n",
              " (\"Up An' Atom\", 22),\n",
              " ('Use Your Illusion I', 16),\n",
              " ('Use Your Illusion II', 14),\n",
              " ('Van Halen', 11),\n",
              " ('Van Halen III', 12),\n",
              " (\"Vault: Def Leppard's Greatest Hits\", 16),\n",
              " ('Vinicius De Moraes', 15),\n",
              " ('Vinícius De Moraes - Sem Limite', 15),\n",
              " ('Volume Dois', 16),\n",
              " ('Voodoo Lounge', 15),\n",
              " ('Vozes do MPB', 14),\n",
              " ('Vs.', 12),\n",
              " ('Walking Into Clarksdale', 12),\n",
              " ('Warner 25 Anos', 14)]"
            ]
          },
          "metadata": {},
          "execution_count": 6
        }
      ]
    },
    {
      "cell_type": "code",
      "source": [
        "conn.commit()\n",
        "## To close connections to the database\n",
        "conn.close()"
      ],
      "metadata": {
        "id": "i0lX2oBKf-vk"
      },
      "execution_count": 7,
      "outputs": []
    }
  ],
  "metadata": {
    "anaconda-cloud": {},
    "kernelspec": {
      "display_name": "Python 3",
      "language": "python",
      "name": "python3"
    },
    "language_info": {
      "codemirror_mode": {
        "name": "ipython",
        "version": 3
      },
      "file_extension": ".py",
      "mimetype": "text/x-python",
      "name": "python",
      "nbconvert_exporter": "python",
      "pygments_lexer": "ipython3",
      "version": "3.8.3"
    },
    "latex_envs": {
      "LaTeX_envs_menu_present": true,
      "autoclose": false,
      "autocomplete": false,
      "bibliofile": "biblio.bib",
      "cite_by": "apalike",
      "current_citInitial": 1,
      "eqLabelWithNumbers": true,
      "eqNumInitial": 1,
      "hotkeys": {
        "equation": "Ctrl-E",
        "itemize": "Ctrl-I"
      },
      "labels_anchors": true,
      "latex_user_defs": false,
      "report_style_numbering": false,
      "user_envs_cfg": false
    },
    "nbTranslate": {
      "displayLangs": [
        "en"
      ],
      "hotkey": "alt-t",
      "langInMainMenu": true,
      "sourceLang": "en",
      "targetLang": "fr",
      "useGoogleTranslate": true
    },
    "toc": {
      "base_numbering": 1,
      "nav_menu": {},
      "number_sections": true,
      "sideBar": true,
      "skip_h1_title": true,
      "title_cell": "Table of Contents",
      "title_sidebar": "Table of Contents",
      "toc_cell": true,
      "toc_position": {
        "height": "calc(100% - 180px)",
        "left": "10px",
        "top": "150px",
        "width": "281px"
      },
      "toc_section_display": true,
      "toc_window_display": true
    },
    "varInspector": {
      "cols": {
        "lenName": 16,
        "lenType": 16,
        "lenVar": 40
      },
      "kernels_config": {
        "python": {
          "delete_cmd_postfix": "",
          "delete_cmd_prefix": "del ",
          "library": "var_list.py",
          "varRefreshCmd": "print(var_dic_list())"
        },
        "r": {
          "delete_cmd_postfix": ") ",
          "delete_cmd_prefix": "rm(",
          "library": "var_list.r",
          "varRefreshCmd": "cat(var_dic_list()) "
        }
      },
      "position": {
        "height": "1097px",
        "left": "2190px",
        "right": "20px",
        "top": "120px",
        "width": "337px"
      },
      "types_to_exclude": [
        "module",
        "function",
        "builtin_function_or_method",
        "instance",
        "_Feature"
      ],
      "window_display": false
    },
    "colab": {
      "provenance": []
    }
  },
  "nbformat": 4,
  "nbformat_minor": 0
}